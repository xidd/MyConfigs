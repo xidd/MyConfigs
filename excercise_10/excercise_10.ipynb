{
  "nbformat": 4,
  "nbformat_minor": 0,
  "metadata": {
    "colab": {
      "name": "excercise_10.ipynb",
      "provenance": [],
      "collapsed_sections": [],
      "authorship_tag": "ABX9TyMDQ2mKwaXt+u3oKTiJVkYv",
      "include_colab_link": true
    },
    "kernelspec": {
      "name": "python3",
      "display_name": "Python 3"
    },
    "language_info": {
      "name": "python"
    }
  },
  "cells": [
    {
      "cell_type": "markdown",
      "metadata": {
        "id": "view-in-github",
        "colab_type": "text"
      },
      "source": [
        "<a href=\"https://colab.research.google.com/github/xidd/MyConfigs/blob/master/excercise_10/excercise_10.ipynb\" target=\"_parent\"><img src=\"https://colab.research.google.com/assets/colab-badge.svg\" alt=\"Open In Colab\"/></a>"
      ]
    },
    {
      "cell_type": "code",
      "metadata": {
        "id": "4JC-0_-Ns3gt"
      },
      "source": [
        "import numpy as np\n",
        "import pprint\n",
        "from sklearn import datasets, preprocessing\n",
        "iris = datasets.load_iris()"
      ],
      "execution_count": 4,
      "outputs": []
    },
    {
      "cell_type": "code",
      "metadata": {
        "id": "cJTDEFBN0EW-"
      },
      "source": [
        "class Ex10:\n",
        "  def __init__(self):\n",
        "    self.min = 0.0\n",
        "    self.max = 0.0\n",
        "    self.model = {}\n",
        "    self.testing = {}\n",
        "    self.k = 0\n",
        "    self.disclas = []\n",
        "\n",
        "  # first step, loading the training data and the defined classes\n",
        "  def load_training_data(self, data, classes):\n",
        "    self.model['data'] = data\n",
        "    self.model['classes'] = classes\n",
        "  # second step, loading data that should be classified\n",
        "  def load_test_data(self,data):\n",
        "    self.testing['data'] = data\n",
        "  \n",
        "  #third step, normalizing the data of the model\n",
        "  def normalize_model(self):\n",
        "    data = self.model['data']\n",
        "    self.min = np.min(data, axis=0)\n",
        "    self.max = np.max(data, axis=0)\n",
        "    normalized_data = []\n",
        "    for entry in data:\n",
        "      normalized_data.append((entry - self.min)/(self.max-self.min))\n",
        "    self.model['normalized_data'] = normalized_data\n",
        "  \n",
        "  # fourth step, normalizing the test data with the normalizing values of the\n",
        "  # model\n",
        "  def normalize_testing(self):\n",
        "    data = self.testing['data']\n",
        "    normalized_data = []\n",
        "    for entry in data:\n",
        "      normalized_data.append((entry - self.min) / (self.max - self.min))\n",
        "    self.testing['normalized_data'] = np.array(normalized_data)\n",
        "  \n",
        "  # fifth step, choose your k\n",
        "  def choose_k(self, k):\n",
        "    self.k = k\n",
        "  \n",
        "  # inner method, calculate the euklid distance\n",
        "  def _euklid_dist(self, input1, input2):\n",
        "    first = np.array(input1)\n",
        "    second = np.array(input2)\n",
        "    if not len(first) == len(second):\n",
        "      return None\n",
        "    else:\n",
        "      return np.sqrt(sum((first-second)**2))\n",
        "  \n",
        "  # sixth step, calculate the distance \n",
        "  def calc_distance(self):\n",
        "    distance_list = []\n",
        "    self.testing['testing_distance'] = []\n",
        "    for test_count in range(0, len(self.testing['normalized_data'])):\n",
        "      #pprint.pprint(type(self.model['normalized_data']))\n",
        "      distance_list.append([])\n",
        "      for model_count in range(0,len(self.model['normalized_data'])):\n",
        "        distance_list[test_count].append([self._euklid_dist(self.testing['normalized_data'][test_count],self.model['normalized_data'][model_count]), self.model['classes'][model_count]])\n",
        "    #pprint.pprint(distance_list)\n",
        "\n",
        "    for entry in range(0,len(distance_list)):\n",
        "      distance_list[entry].sort()\n",
        "    self.testing['testing_distance'] = distance_list\n",
        "    return self.testing['testing_distance']\n",
        "  \n",
        "  def show_foo(self):\n",
        "    return self.k+2\n",
        "\n",
        "  # seventh step, calculating the propability of the class\n",
        "  def proba_calc(self, nth):\n",
        "    self.testing['probability'] = {}\n",
        "    proba_result = {}\n",
        "    data = self.testing['testing_distance'][nth][:self.k]\n",
        "    for entry in data:\n",
        "      if entry[1] not in proba_result:\n",
        "        proba_result[entry[1]] = 1\n",
        "      else:\n",
        "        proba_result[entry[1]] += 1\n",
        "    for entry  in proba_result:\n",
        "      proba_result[entry] = proba_result[entry] / self.k\n",
        "    pprint.pprint(f'Probability of different classes: {proba_result}')\n",
        "    self.testing['probability'][nth] = proba_result \n",
        "    return proba_result\n",
        "  \n",
        "  def which_class(self, nth):\n",
        "    temp = self.testing['probability'][nth]\n",
        "    high_class = 0\n",
        "    high_value = 0\n",
        "\n",
        "    for entry in temp:\n",
        "      if temp[entry] > high_value:\n",
        "        high_class = entry\n",
        "        high_value = temp[entry]\n",
        "    pprint.pprint(f\"Determined it is class {high_class}\")\n",
        "    return high_class\n",
        "\n",
        "\n",
        "\n",
        "  \n"
      ],
      "execution_count": 67,
      "outputs": []
    },
    {
      "cell_type": "code",
      "metadata": {
        "colab": {
          "base_uri": "https://localhost:8080/"
        },
        "id": "oF35TeXv0p6X",
        "outputId": "bfa2d834-b686-442a-9512-600dfee61c4d"
      },
      "source": [
        "## training data\n",
        "iris = datasets.load_iris()\n",
        "## instanciating the class to calculate KNN\n",
        "foo = Ex10()\n",
        "\n",
        "## choose your K\n",
        "foo.choose_k(12)\n",
        "# loading training data and classes in the format given from iris\n",
        "foo.load_training_data(iris['data'],iris['target'])\n",
        "\n",
        "#loading multiple instances of testing data. needs to be a list of list\n",
        "foo.load_test_data([[4.8,2.5,5.3,2.4],[1,1,1,1]])\n",
        "# normalizing the training_data\n",
        "foo.normalize_model()\n",
        "# normalize the test data \n",
        "foo.normalize_testing()\n",
        "## calculating the distance of the nomalized points\n",
        "foo.calc_distance()\n",
        "## calculating the probability\n",
        "foo.proba_calc(0)\n",
        "\n",
        "# getting the class with the highest probability\n",
        "a = foo.which_class(0)"
      ],
      "execution_count": 69,
      "outputs": [
        {
          "output_type": "stream",
          "text": [
            "('Probability of different classes: {2: 0.8333333333333334, 1: '\n",
            " '0.16666666666666666}')\n",
            "'Determined it is class 2'\n"
          ],
          "name": "stdout"
        }
      ]
    }
  ]
}